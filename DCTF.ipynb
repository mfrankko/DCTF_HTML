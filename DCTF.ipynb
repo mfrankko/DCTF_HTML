{
 "cells": [
  {
   "cell_type": "code",
   "execution_count": 1,
   "metadata": {
    "collapsed": true
   },
   "outputs": [],
   "source": [
    "import pandas as pd\n",
    "from bs4 import BeautifulSoup"
   ]
  },
  {
   "cell_type": "code",
   "execution_count": 2,
   "outputs": [],
   "source": [
    "tables = pd.read_html('C:\\\\Users\\\\sfran\\\\OneDrive\\\\Documents\\\\Excel\\\\Impressão da Declaração - 2004.html')"
   ],
   "metadata": {
    "collapsed": false
   }
  },
  {
   "cell_type": "code",
   "execution_count": 38,
   "outputs": [],
   "source": [
    "table = tables[97]"
   ],
   "metadata": {
    "collapsed": false
   }
  },
  {
   "cell_type": "code",
   "execution_count": 39,
   "outputs": [
    {
     "data": {
      "text/plain": "                     0          1\n0       DÉBITO APURADO  25.259,01\n1  CRÉDITOS VINCULADOS        NaN\n2          - PAGAMENTO  25.259,01\n3       - COMPENSAÇÕES        000\n4       - PARCELAMENTO        000\n5          - SUSPENSÃO        000",
      "text/html": "<div>\n<style scoped>\n    .dataframe tbody tr th:only-of-type {\n        vertical-align: middle;\n    }\n\n    .dataframe tbody tr th {\n        vertical-align: top;\n    }\n\n    .dataframe thead th {\n        text-align: right;\n    }\n</style>\n<table border=\"1\" class=\"dataframe\">\n  <thead>\n    <tr style=\"text-align: right;\">\n      <th></th>\n      <th>0</th>\n      <th>1</th>\n    </tr>\n  </thead>\n  <tbody>\n    <tr>\n      <th>0</th>\n      <td>DÉBITO APURADO</td>\n      <td>25.259,01</td>\n    </tr>\n    <tr>\n      <th>1</th>\n      <td>CRÉDITOS VINCULADOS</td>\n      <td>NaN</td>\n    </tr>\n    <tr>\n      <th>2</th>\n      <td>- PAGAMENTO</td>\n      <td>25.259,01</td>\n    </tr>\n    <tr>\n      <th>3</th>\n      <td>- COMPENSAÇÕES</td>\n      <td>000</td>\n    </tr>\n    <tr>\n      <th>4</th>\n      <td>- PARCELAMENTO</td>\n      <td>000</td>\n    </tr>\n    <tr>\n      <th>5</th>\n      <td>- SUSPENSÃO</td>\n      <td>000</td>\n    </tr>\n  </tbody>\n</table>\n</div>"
     },
     "execution_count": 39,
     "metadata": {},
     "output_type": "execute_result"
    }
   ],
   "source": [
    "table"
   ],
   "metadata": {
    "collapsed": false
   }
  },
  {
   "cell_type": "code",
   "execution_count": null,
   "outputs": [],
   "source": [],
   "metadata": {
    "collapsed": false
   }
  }
 ],
 "metadata": {
  "kernelspec": {
   "display_name": "Python 3",
   "language": "python",
   "name": "python3"
  },
  "language_info": {
   "codemirror_mode": {
    "name": "ipython",
    "version": 2
   },
   "file_extension": ".py",
   "mimetype": "text/x-python",
   "name": "python",
   "nbconvert_exporter": "python",
   "pygments_lexer": "ipython2",
   "version": "2.7.6"
  }
 },
 "nbformat": 4,
 "nbformat_minor": 0
}
